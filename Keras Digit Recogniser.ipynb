{
    "nbformat_minor": 1, 
    "cells": [
        {
            "source": "# Keras Digit Recogniser", 
            "cell_type": "markdown", 
            "metadata": {
                "collapsed": true
            }
        }, 
        {
            "execution_count": 55, 
            "cell_type": "code", 
            "metadata": {}, 
            "outputs": [], 
            "source": "# import libraries\nimport numpy as np\nimport pandas as pd\nimport matplotlib.pyplot as plt\n%matplotlib inline\nfrom keras.models import Sequential\nfrom keras.layers import Dense\nfrom keras.optimizers import Adam\nfrom sklearn.model_selection import train_test_split\nfrom keras.utils.np_utils import to_categorical\nfrom keras.callbacks import EarlyStopping"
        }, 
        {
            "execution_count": 56, 
            "cell_type": "code", 
            "metadata": {}, 
            "outputs": [
                {
                    "execution_count": 56, 
                    "metadata": {}, 
                    "data": {
                        "text/plain": "array([[ 0.,  0.,  0., ...,  0.,  0.,  0.],\n       [ 0.,  0.,  0., ...,  0.,  0.,  0.],\n       [ 0.,  0.,  0., ...,  0.,  0.,  0.],\n       ..., \n       [ 0.,  0.,  0., ...,  0.,  0.,  0.],\n       [ 0.,  0.,  0., ...,  0.,  0.,  0.],\n       [ 0.,  0.,  0., ...,  0.,  0.,  0.]], dtype=float32)"
                    }, 
                    "output_type": "execute_result"
                }
            ], 
            "source": "# The code was removed by Watson Studio for sharing."
        }, 
        {
            "execution_count": 57, 
            "cell_type": "code", 
            "metadata": {}, 
            "outputs": [
                {
                    "execution_count": 57, 
                    "metadata": {}, 
                    "data": {
                        "text/html": "<div>\n<style scoped>\n    .dataframe tbody tr th:only-of-type {\n        vertical-align: middle;\n    }\n\n    .dataframe tbody tr th {\n        vertical-align: top;\n    }\n\n    .dataframe thead th {\n        text-align: right;\n    }\n</style>\n<table border=\"1\" class=\"dataframe\">\n  <thead>\n    <tr style=\"text-align: right;\">\n      <th></th>\n      <th>label</th>\n      <th>pixel0</th>\n      <th>pixel1</th>\n      <th>pixel2</th>\n      <th>pixel3</th>\n      <th>pixel4</th>\n      <th>pixel5</th>\n      <th>pixel6</th>\n      <th>pixel7</th>\n      <th>pixel8</th>\n      <th>...</th>\n      <th>pixel774</th>\n      <th>pixel775</th>\n      <th>pixel776</th>\n      <th>pixel777</th>\n      <th>pixel778</th>\n      <th>pixel779</th>\n      <th>pixel780</th>\n      <th>pixel781</th>\n      <th>pixel782</th>\n      <th>pixel783</th>\n    </tr>\n  </thead>\n  <tbody>\n    <tr>\n      <th>0</th>\n      <td>1</td>\n      <td>0</td>\n      <td>0</td>\n      <td>0</td>\n      <td>0</td>\n      <td>0</td>\n      <td>0</td>\n      <td>0</td>\n      <td>0</td>\n      <td>0</td>\n      <td>...</td>\n      <td>0</td>\n      <td>0</td>\n      <td>0</td>\n      <td>0</td>\n      <td>0</td>\n      <td>0</td>\n      <td>0</td>\n      <td>0</td>\n      <td>0</td>\n      <td>0</td>\n    </tr>\n    <tr>\n      <th>1</th>\n      <td>0</td>\n      <td>0</td>\n      <td>0</td>\n      <td>0</td>\n      <td>0</td>\n      <td>0</td>\n      <td>0</td>\n      <td>0</td>\n      <td>0</td>\n      <td>0</td>\n      <td>...</td>\n      <td>0</td>\n      <td>0</td>\n      <td>0</td>\n      <td>0</td>\n      <td>0</td>\n      <td>0</td>\n      <td>0</td>\n      <td>0</td>\n      <td>0</td>\n      <td>0</td>\n    </tr>\n    <tr>\n      <th>2</th>\n      <td>1</td>\n      <td>0</td>\n      <td>0</td>\n      <td>0</td>\n      <td>0</td>\n      <td>0</td>\n      <td>0</td>\n      <td>0</td>\n      <td>0</td>\n      <td>0</td>\n      <td>...</td>\n      <td>0</td>\n      <td>0</td>\n      <td>0</td>\n      <td>0</td>\n      <td>0</td>\n      <td>0</td>\n      <td>0</td>\n      <td>0</td>\n      <td>0</td>\n      <td>0</td>\n    </tr>\n    <tr>\n      <th>3</th>\n      <td>4</td>\n      <td>0</td>\n      <td>0</td>\n      <td>0</td>\n      <td>0</td>\n      <td>0</td>\n      <td>0</td>\n      <td>0</td>\n      <td>0</td>\n      <td>0</td>\n      <td>...</td>\n      <td>0</td>\n      <td>0</td>\n      <td>0</td>\n      <td>0</td>\n      <td>0</td>\n      <td>0</td>\n      <td>0</td>\n      <td>0</td>\n      <td>0</td>\n      <td>0</td>\n    </tr>\n    <tr>\n      <th>4</th>\n      <td>0</td>\n      <td>0</td>\n      <td>0</td>\n      <td>0</td>\n      <td>0</td>\n      <td>0</td>\n      <td>0</td>\n      <td>0</td>\n      <td>0</td>\n      <td>0</td>\n      <td>...</td>\n      <td>0</td>\n      <td>0</td>\n      <td>0</td>\n      <td>0</td>\n      <td>0</td>\n      <td>0</td>\n      <td>0</td>\n      <td>0</td>\n      <td>0</td>\n      <td>0</td>\n    </tr>\n  </tbody>\n</table>\n<p>5 rows \u00d7 785 columns</p>\n</div>", 
                        "text/plain": "   label  pixel0  pixel1  pixel2  pixel3  pixel4  pixel5  pixel6  pixel7  \\\n0      1       0       0       0       0       0       0       0       0   \n1      0       0       0       0       0       0       0       0       0   \n2      1       0       0       0       0       0       0       0       0   \n3      4       0       0       0       0       0       0       0       0   \n4      0       0       0       0       0       0       0       0       0   \n\n   pixel8    ...     pixel774  pixel775  pixel776  pixel777  pixel778  \\\n0       0    ...            0         0         0         0         0   \n1       0    ...            0         0         0         0         0   \n2       0    ...            0         0         0         0         0   \n3       0    ...            0         0         0         0         0   \n4       0    ...            0         0         0         0         0   \n\n   pixel779  pixel780  pixel781  pixel782  pixel783  \n0         0         0         0         0         0  \n1         0         0         0         0         0  \n2         0         0         0         0         0  \n3         0         0         0         0         0  \n4         0         0         0         0         0  \n\n[5 rows x 785 columns]"
                    }, 
                    "output_type": "execute_result"
                }
            ], 
            "source": "# preview data\ntrain.head()\n#test.head()"
        }, 
        {
            "execution_count": 58, 
            "cell_type": "code", 
            "metadata": {}, 
            "outputs": [
                {
                    "execution_count": 58, 
                    "metadata": {}, 
                    "data": {
                        "text/plain": "((42000, 784), (28000, 784))"
                    }, 
                    "output_type": "execute_result"
                }
            ], 
            "source": "labels = train.label.values.astype('int32')\ntrain_img = train.loc[:,'pixel0':].values.astype('float32')\n#labels\ntrain_img.shape, test.shape\n#type(labels)"
        }, 
        {
            "execution_count": 59, 
            "cell_type": "code", 
            "metadata": {}, 
            "outputs": [
                {
                    "execution_count": 59, 
                    "metadata": {}, 
                    "data": {
                        "text/plain": "array([[ 0.,  1.,  0., ...,  0.,  0.,  0.],\n       [ 1.,  0.,  0., ...,  0.,  0.,  0.],\n       [ 0.,  1.,  0., ...,  0.,  0.,  0.],\n       ..., \n       [ 0.,  0.,  0., ...,  1.,  0.,  0.],\n       [ 0.,  0.,  0., ...,  0.,  0.,  0.],\n       [ 0.,  0.,  0., ...,  0.,  0.,  1.]])"
                    }, 
                    "output_type": "execute_result"
                }
            ], 
            "source": "# convert labels to a categorical data type, as expected by keras model\nlabels = to_categorical(labels)\nclasses = labels.shape[1]\nlabels"
        }, 
        {
            "execution_count": 60, 
            "cell_type": "code", 
            "metadata": {}, 
            "outputs": [], 
            "source": "# fix random seed for reproducibility\nseed = 43\nnp.random.seed(seed)"
        }, 
        {
            "source": "## Neural Network", 
            "cell_type": "markdown", 
            "metadata": {}
        }, 
        {
            "source": "Now we will build the neural network. We use a Keras Sequential model (i.e. simple feedforward network), with Relu input and hidden layer activations, and a softmax output layer with 10 classes. model.add() will be used to add layers.", 
            "cell_type": "markdown", 
            "metadata": {}
        }, 
        {
            "execution_count": 61, 
            "cell_type": "code", 
            "metadata": {}, 
            "outputs": [], 
            "source": "model = Sequential()\nmodel.add(Dense(32, activation='relu', input_dim=784))\nmodel.add(Dense(32, activation='relu'))\nmodel.add(Dense(32, activation='relu'))\nmodel.add(Dense(32, activation='relu'))\nmodel.add(Dense(32, activation='relu'))\nmodel.add(Dense(32, activation='relu'))\nmodel.add(Dense(32, activation='relu'))\nmodel.add(Dense(32, activation='relu'))\nmodel.add(Dense(32, activation='relu'))\nmodel.add(Dense(32, activation='relu'))\nmodel.add(Dense(32, activation='relu'))\nmodel.add(Dense(32, activation='relu'))\nmodel.add(Dense(10, activation='softmax'))"
        }, 
        {
            "execution_count": 62, 
            "cell_type": "code", 
            "metadata": {}, 
            "outputs": [], 
            "source": "model.compile(optimizer='adam', loss='categorical_crossentropy', metrics=['accuracy'])"
        }, 
        {
            "execution_count": 63, 
            "cell_type": "code", 
            "metadata": {}, 
            "outputs": [
                {
                    "output_type": "stream", 
                    "name": "stdout", 
                    "text": "Train on 37800 samples, validate on 4200 samples\nEpoch 1/100\n37800/37800 [==============================] - 8s 211us/step - loss: 0.6879 - acc: 0.7788 - val_loss: 0.3244 - val_acc: 0.9093\nEpoch 2/100\n37800/37800 [==============================] - 8s 200us/step - loss: 0.2691 - acc: 0.9240 - val_loss: 0.2449 - val_acc: 0.9340\nEpoch 3/100\n37800/37800 [==============================] - 7s 198us/step - loss: 0.2110 - acc: 0.9404 - val_loss: 0.2100 - val_acc: 0.9429\nEpoch 4/100\n37800/37800 [==============================] - 7s 198us/step - loss: 0.1753 - acc: 0.9512 - val_loss: 0.1973 - val_acc: 0.9460\nEpoch 5/100\n37800/37800 [==============================] - 7s 194us/step - loss: 0.1512 - acc: 0.9569 - val_loss: 0.2638 - val_acc: 0.9293\nEpoch 6/100\n37800/37800 [==============================] - 8s 203us/step - loss: 0.1473 - acc: 0.9592 - val_loss: 0.1832 - val_acc: 0.9488\nEpoch 7/100\n37800/37800 [==============================] - 7s 198us/step - loss: 0.1301 - acc: 0.9635 - val_loss: 0.1804 - val_acc: 0.9540\nEpoch 8/100\n37800/37800 [==============================] - 7s 195us/step - loss: 0.1233 - acc: 0.9666 - val_loss: 0.1801 - val_acc: 0.9548\nEpoch 9/100\n37800/37800 [==============================] - 7s 195us/step - loss: 0.1132 - acc: 0.9684 - val_loss: 0.1768 - val_acc: 0.9543\nEpoch 10/100\n37800/37800 [==============================] - 7s 198us/step - loss: 0.1066 - acc: 0.9710 - val_loss: 0.1724 - val_acc: 0.9588\nEpoch 11/100\n37800/37800 [==============================] - 8s 199us/step - loss: 0.1023 - acc: 0.9718 - val_loss: 0.2316 - val_acc: 0.9486\nEpoch 12/100\n37800/37800 [==============================] - 7s 197us/step - loss: 0.0975 - acc: 0.9735 - val_loss: 0.1710 - val_acc: 0.9605\nEpoch 13/100\n37800/37800 [==============================] - 7s 195us/step - loss: 0.0882 - acc: 0.9763 - val_loss: 0.1799 - val_acc: 0.9583\nEpoch 14/100\n37800/37800 [==============================] - 7s 198us/step - loss: 0.0868 - acc: 0.9763 - val_loss: 0.1801 - val_acc: 0.9490\n"
                }
            ], 
            "source": "early_stopping = EarlyStopping(monitor='val_loss', patience=2)\nmodel_fit = model.fit(train_img, labels, epochs=100, batch_size=64, validation_split=0.1, callbacks=[early_stopping])"
        }, 
        {
            "execution_count": 64, 
            "cell_type": "code", 
            "metadata": {}, 
            "outputs": [
                {
                    "execution_count": 64, 
                    "metadata": {}, 
                    "data": {
                        "text/plain": "(array([2, 0, 9, ..., 3, 9, 2]), 28000)"
                    }, 
                    "output_type": "execute_result"
                }
            ], 
            "source": "pred = model.predict_classes(test)\npred, len(pred)"
        }, 
        {
            "execution_count": 65, 
            "cell_type": "code", 
            "metadata": {}, 
            "outputs": [
                {
                    "execution_count": 65, 
                    "metadata": {}, 
                    "data": {
                        "text/html": "<div>\n<style scoped>\n    .dataframe tbody tr th:only-of-type {\n        vertical-align: middle;\n    }\n\n    .dataframe tbody tr th {\n        vertical-align: top;\n    }\n\n    .dataframe thead th {\n        text-align: right;\n    }\n</style>\n<table border=\"1\" class=\"dataframe\">\n  <thead>\n    <tr style=\"text-align: right;\">\n      <th></th>\n      <th>ImageId</th>\n      <th>Label</th>\n    </tr>\n  </thead>\n  <tbody>\n    <tr>\n      <th>0</th>\n      <td>1</td>\n      <td>2</td>\n    </tr>\n    <tr>\n      <th>1</th>\n      <td>2</td>\n      <td>0</td>\n    </tr>\n    <tr>\n      <th>2</th>\n      <td>3</td>\n      <td>9</td>\n    </tr>\n    <tr>\n      <th>3</th>\n      <td>4</td>\n      <td>9</td>\n    </tr>\n    <tr>\n      <th>4</th>\n      <td>5</td>\n      <td>3</td>\n    </tr>\n  </tbody>\n</table>\n</div>", 
                        "text/plain": "   ImageId  Label\n0        1      2\n1        2      0\n2        3      9\n3        4      9\n4        5      3"
                    }, 
                    "output_type": "execute_result"
                }
            ], 
            "source": "result = pd.DataFrame({'ImageId':list(range(1,test.shape[0]+1)),\n                       'Label':pred})\nresult.head()"
        }, 
        {
            "execution_count": 66, 
            "cell_type": "code", 
            "metadata": {}, 
            "outputs": [], 
            "source": "result.to_csv('output.csv', index=False, header=True)\nclient_242955d4e4ca4cad87468d854b73c857.upload_file(Filename='output.csv', Bucket='test-donotdelete-pr-ectconhjpferec', Key='output.csv')"
        }
    ], 
    "metadata": {
        "kernelspec": {
            "display_name": "Python 3.5", 
            "name": "python3", 
            "language": "python"
        }, 
        "language_info": {
            "mimetype": "text/x-python", 
            "nbconvert_exporter": "python", 
            "version": "3.5.5", 
            "name": "python", 
            "file_extension": ".py", 
            "pygments_lexer": "ipython3", 
            "codemirror_mode": {
                "version": 3, 
                "name": "ipython"
            }
        }
    }, 
    "nbformat": 4
}